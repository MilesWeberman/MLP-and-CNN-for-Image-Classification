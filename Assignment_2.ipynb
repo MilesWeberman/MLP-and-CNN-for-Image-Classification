{
  "nbformat": 4,
  "nbformat_minor": 0,
  "metadata": {
    "colab": {
      "provenance": []
    },
    "kernelspec": {
      "name": "python3",
      "display_name": "Python 3"
    },
    "language_info": {
      "name": "python"
    },
    "gpuClass": "standard"
  },
  "cells": [
    {
      "cell_type": "code",
      "source": [
        "from google.colab import drive\n",
        "drive.mount('/content/drive')"
      ],
      "metadata": {
        "colab": {
          "base_uri": "https://localhost:8080/"
        },
        "id": "hEbaSMi4n2Ig",
        "outputId": "4cb5a263-2a42-43b4-fb5e-dcd32870d3fc"
      },
      "execution_count": null,
      "outputs": [
        {
          "output_type": "stream",
          "name": "stdout",
          "text": [
            "Mounted at /content/drive\n"
          ]
        }
      ]
    },
    {
      "cell_type": "code",
      "execution_count": null,
      "metadata": {
        "colab": {
          "base_uri": "https://localhost:8080/"
        },
        "id": "VIINm1HQM0wd",
        "outputId": "6550871f-ef5e-469b-ec05-2ef38dcfc272"
      },
      "outputs": [
        {
          "output_type": "stream",
          "name": "stdout",
          "text": [
            "(50000, 32, 32, 3)\n"
          ]
        }
      ],
      "source": [
        "import pandas as pd\n",
        "import numpy as np\n",
        "import matplotlib.pyplot as plt\n",
        "from keras.datasets import cifar10\n",
        "from keras.utils import np_utils\n",
        "import keras\n",
        "import pickle\n",
        "\n",
        "# # load data\n",
        "# (X_train_RGB, y_train), (X_test_RGB, y_test) = cifar10.load_data()\n",
        "# # X_train = [np.reshape(X_train[i], 3072) for i in range(50000)]\n",
        "# # X_test = [np.reshape(X_test[i], 3072) for i in range(10000)]\n",
        "# X_train = X_train_RGB.transpose(0, 2, 3, 1)\n",
        "# print('traning {}'.format(X_train.shape))\n",
        "# X_train = X_train.astype('float64')\n",
        "# X_test = X_test.astype('float64')\n",
        "\n",
        "# unpickle data function\n",
        "def unpickle(file):\n",
        "    import pickle\n",
        "    with open(file, 'rb') as fo:\n",
        "        dict = pickle.load(fo, encoding='bytes')\n",
        "    return dict\n",
        "\n",
        "\n",
        "# load data\n",
        "CIFAR_10_dir = \"/content/drive/MyDrive/CIFAR-10/\"\n",
        "def load_dataset(dir):\n",
        "    X_train = np.empty(shape=(0,))\n",
        "    y_train = np.empty(shape=(0,))\n",
        "    for i in range(1, 6):\n",
        "        file = dir+\"data_batch_\"+str(i)\n",
        "        dict = unpickle(file)\n",
        "        X = dict[b\"data\"]\n",
        "        y = np.array(dict[b\"labels\"])\n",
        "        if (i == 1):\n",
        "            X_train = X\n",
        "            y_train = y\n",
        "        else:\n",
        "            X_train = np.concatenate((X_train, X), axis = 0)\n",
        "            y_train = np.concatenate((y_train, y), axis = 0)\n",
        "\n",
        "    file = dir+\"test_batch\"\n",
        "    dict = unpickle(file)\n",
        "    X_test = dict[b\"data\"]\n",
        "    y_test = np.array(dict[b\"labels\"])\n",
        "    return X_train, y_train, X_test, y_test\n",
        "\n",
        "X_train, y_train, X_test, y_test = load_dataset(CIFAR_10_dir)\n",
        "X_train = X_train.astype('float64')\n",
        "X_test = X_test.astype('float64')\n",
        "\n",
        "\n",
        "X_train_RGB = X_train.reshape(50000, 3, 32, 32).transpose(0, 2, 3, 1)\n",
        "X_test_RGB = X_test.reshape(10000, 3, 32, 32).transpose(0, 2, 3, 1)\n",
        "print(np.shape(X_train_RGB))\n",
        "\n",
        "\n",
        "\n",
        "# data preprocessing\n",
        "# compute preprocessign statistics\n",
        "data_mean = np.mean(X_train)\n",
        "data_std = np.std(X_train)\n",
        "# mean subtraction\n",
        "X_train -= data_mean\n",
        "X_test -= data_mean\n",
        "# normalization\n",
        "X_train /= data_std\n",
        "X_test /= data_std\n",
        "# one-hot encoding of labels\n",
        "Y_train = np_utils.to_categorical(y_train)\n",
        "Y_test = np_utils.to_categorical(y_test)"
      ]
    },
    {
      "cell_type": "code",
      "source": [
        "# activation functions\n",
        "identity = lambda z: z\n",
        "logistic = lambda z: 1 / (1 + np.exp(-z))\n",
        "hyperbolic_tangent = lambda z: np.tanh(z)\n",
        "ReLU = lambda z: np.maximum(0,z)\n",
        "leaky_ReLU = lambda z: np.maximum(0,z) + (0.01 * np.minimum(0,z)) # TODO: or np.maximum(gamma*z,z)\n",
        "# softmax = lambda z: np.exp(z)/sum(np.exp(z))\n",
        "sigmoid = lambda z: 1./(1.+np.exp(-z))\n",
        "tanh = lambda z: (np.exp(z) - np.exp(-z))/ (np.exp(z) + np.exp(-z))\n",
        "\n",
        "\n",
        "def softmax(x):\n",
        "\n",
        "    for i, cur in enumerate(x):\n",
        "      x[i] -= x[i].max()\n",
        "\n",
        "    numerator = np.exp(x)\n",
        "    denominator = np.sum(numerator)\n",
        "    softmax = numerator/denominator\n",
        "\n",
        "    return softmax"
      ],
      "metadata": {
        "id": "K29b5QSCsKzd"
      },
      "execution_count": null,
      "outputs": []
    },
    {
      "cell_type": "code",
      "source": [
        "# TODO: add dropout regularization if possible\n",
        "class MLP:\n",
        "    def __init__(self, batch_size, num_layers, layer_sizes, lr, activation_function=\"ReLU\", bias=True):\n",
        "        # TODO : if bias is true then -> adapt weught init accordingly (also add one to 3072) ASK\n",
        "        \"\"\"\n",
        "        Parameters\n",
        "        ----------\n",
        "        batch_size : int\n",
        "            Number of samples to concurrently feed through the network. (Used for\n",
        "            minibatch SGD)\n",
        "        layer_sizes : array_like\n",
        "            Array of length `N_l`. Each entry is the number of neurons in each layer.\n",
        "        units:\n",
        "            not sure\n",
        "        activation function : function\n",
        "            This is the acitvation function that will be used between the hidden layers\n",
        "        bias : bool\n",
        "            true when the bias is included in the model\n",
        "        num_layers : int\n",
        "            number of layers including the input and output layers\n",
        "        \"\"\"\n",
        "\n",
        "        #This is empty arrays which will hold the hidden layer output will make it easier to do\n",
        "        #backpropagation\n",
        "        all_layer_sizes = [3072] + layer_sizes + [10]\n",
        "\n",
        "        self.layer_values = [np.empty((batch_size,layer_size)) for layer_size in all_layer_sizes]\n",
        "\n",
        "        self.activation_function = activation_function\n",
        "        self.bias = bias\n",
        "        # initialize weights\n",
        "        self.weights = list()\n",
        "        self.train_acc = []\n",
        "        self.test_acc = []\n",
        "\n",
        "        # self.weights.append((np.random.randn(3072, layer_sizes[0]) * np.sqrt(2/3072))) # TODO: update dimensions based on input vectorization\n",
        "        # #It's -3 because we take away one for output and input layer and since it's range\n",
        "        # #we take away another\n",
        "        # for i in range(num_layers - 3):\n",
        "        #     self.weights.append((np.random.randn(layer_sizes[i], layer_sizes[i+1]) * np.sqrt(2/layer_sizes[i])))\n",
        "        # self.weights.append((np.random.randn(layer_sizes[-1], 10) * np.sqrt(2/layer_sizes[-1])))\n",
        "\n",
        "\n",
        "        for i, size in enumerate(all_layer_sizes):\n",
        "          if (i == num_layers - 1):\n",
        "            break\n",
        "          else:\n",
        "            self.weights.append((np.random.randn(all_layer_sizes[i], all_layer_sizes[i+1]) * np.sqrt(2/all_layer_sizes[i])))\n",
        "\n",
        "\n",
        "        self.batch_size = batch_size\n",
        "        self.lr = lr\n",
        "        self.num_layers = num_layers\n",
        "\n",
        "    def _loss(y, y_hat):\n",
        "        # TODO: implement multi-class cross entropy loss\n",
        "        return\n",
        "\n",
        "    def _forward_mode(self, X_batch):\n",
        "\n",
        "        \"\"\"\n",
        "        Parameters\n",
        "        ----------\n",
        "        batch : array like\n",
        "            this is the current data input\n",
        "        \"\"\"\n",
        "        #TODO: CHeck this division\n",
        "        cur_out = X_batch#/self.batch_size\n",
        "        self.layer_values[0] = cur_out\n",
        "        for i, weight in enumerate(self.weights):\n",
        "          cur_out = self.activation_function(cur_out.dot(weight))/self.batch_size\n",
        "          self.layer_values[i + 1] = cur_out\n",
        "\n",
        "\n",
        "        output = softmax(self.layer_values[-1])\n",
        "\n",
        "        # print(\"Pre_Soft:\")\n",
        "        # print(self.layer_values[-1])\n",
        "\n",
        "        # print(\"Post_Soft:\")\n",
        "        # print(output)\n",
        "\n",
        "\n",
        "        return output\n",
        "        #TODO: Test what happens when you set layer_vlaues[-1] to softmax(self.layer_values[-1])\n",
        "\n",
        "    def relu_derive(self, x):\n",
        "        return np.where(x < 0, 0, 1)\n",
        "        # return x*(1-x)\n",
        "\n",
        "\n",
        "    def _back_propagation(self, yh, y):\n",
        "        #Derivative of multiclass cross-entropy loss of softmax function\n",
        "        pd = (yh-y)\n",
        "        new_weights = []\n",
        "        for i in range(1, self.num_layers):\n",
        "\n",
        "          # new_weights.append((self.lr* (self.layer_values[-i -1].T.dot(pd))/self.batch_size))\n",
        "\n",
        "          #This is for L1 regularization\n",
        "          # new_weights.append(self.lr*(0.01/10)*np.sign(self.weights[-i]) + (self.lr* (self.layer_values[-i -1].T.dot(pd))/self.batch_size))\n",
        "\n",
        "          # This is for L2 regularization\n",
        "          new_weights.append(self.weights[-i]*(1 - self.lr*(0.001/10)) + (self.lr* (self.layer_values[-i -1].T.dot(pd))/self.batch_size))\n",
        "\n",
        "          pd = (self.relu_derive(self.layer_values[-i -1]))*(pd.dot(self.weights[-i].T))\n",
        "        new_weights = np.flip(new_weights)\n",
        "        self.weights = np.subtract(self.weights, new_weights)\n",
        "\n",
        "\n",
        "    def fit(self, X_train, Y_train, X_test, Y_test, epochs=25): # TODO: add hyperparameters\n",
        "        n_samples = X_train.shape[0]\n",
        "\n",
        "        for epoch in range(epochs):\n",
        "            shuffle = np.random.permutation(n_samples)\n",
        "            X_batches = np.array_split(X_train[shuffle],n_samples/self.batch_size)\n",
        "            Y_batches = np.array_split(Y_train[shuffle],n_samples/self.batch_size)\n",
        "\n",
        "            for x_batch, y_batch in zip(X_batches, Y_batches):\n",
        "                output = self._forward_mode(x_batch)\n",
        "                self._back_propagation(output,y_batch)\n",
        "                # print(\"Weights\")\n",
        "                # print(self.weights[0])\n",
        "\n",
        "            train_predict = self.predict(X_train)\n",
        "            self.train_acc.append(self.evaluate_acc(Y_train, train_predict))\n",
        "\n",
        "            test_predict = self.predict(X_test)\n",
        "            self.test_acc.append(self.evaluate_acc(Y_test, test_predict))\n",
        "            print(epoch)\n",
        "        return\n",
        "\n",
        "    def predict(self, X):\n",
        "      out = self._forward_mode(X)\n",
        "      return self.to_categorical(out)\n",
        "\n",
        "    def to_categorical(self, out):\n",
        "      categorical = np.zeros((out.shape[0],10))\n",
        "      categorical[np.arange(out.shape[0]),out.argmax(axis=1)] = 1\n",
        "      return categorical\n",
        "\n",
        "\n",
        "    def evaluate_acc(self, y, y_hat):\n",
        "        return np.all(y_hat==y,axis=1).mean() # TODO: investigate whats up\n",
        "\n",
        "    def get_train_acc(self):\n",
        "      return self.train_acc\n",
        "\n",
        "    def get_test_acc(self):\n",
        "      return self.test_acc"
      ],
      "metadata": {
        "id": "CxQnsE1Vv-H5"
      },
      "execution_count": null,
      "outputs": []
    },
    {
      "cell_type": "code",
      "source": [
        "\n",
        "model = MLP(1000, 4, [256, 256], 0.001, activation_function= ReLU)\n",
        "\n"
      ],
      "metadata": {
        "id": "prQ_eOeR6SvB"
      },
      "execution_count": null,
      "outputs": []
    },
    {
      "cell_type": "code",
      "source": [
        "model.fit(X_train, Y_train, X_test, Y_test, 50)\n",
        "yh = model.predict(X_test)\n",
        "acc = model.evaluate_acc(Y_test, yh)\n",
        "print(yh)\n",
        "print(acc)"
      ],
      "metadata": {
        "id": "6qKBYSmGPTEG",
        "colab": {
          "base_uri": "https://localhost:8080/",
          "height": 481
        },
        "outputId": "18db5fc8-e31f-4db8-beed-1e525601bc89"
      },
      "execution_count": null,
      "outputs": [
        {
          "output_type": "stream",
          "name": "stderr",
          "text": [
            "/usr/local/lib/python3.9/dist-packages/numpy/lib/function_base.py:334: VisibleDeprecationWarning: Creating an ndarray from ragged nested sequences (which is a list-or-tuple of lists-or-tuples-or ndarrays with different lengths or shapes) is deprecated. If you meant to do this, you must specify 'dtype=object' when creating the ndarray.\n",
            "  m = asarray(m)\n",
            "<ipython-input-5-eb0a45e917ff>:108: VisibleDeprecationWarning: Creating an ndarray from ragged nested sequences (which is a list-or-tuple of lists-or-tuples-or ndarrays with different lengths or shapes) is deprecated. If you meant to do this, you must specify 'dtype=object' when creating the ndarray.\n",
            "  self.weights = np.subtract(self.weights, new_weights)\n"
          ]
        },
        {
          "output_type": "error",
          "ename": "KeyboardInterrupt",
          "evalue": "ignored",
          "traceback": [
            "\u001b[0;31m---------------------------------------------------------------------------\u001b[0m",
            "\u001b[0;31mKeyboardInterrupt\u001b[0m                         Traceback (most recent call last)",
            "\u001b[0;32m<ipython-input-7-b33618d86036>\u001b[0m in \u001b[0;36m<module>\u001b[0;34m\u001b[0m\n\u001b[0;32m----> 1\u001b[0;31m \u001b[0mmodel\u001b[0m\u001b[0;34m.\u001b[0m\u001b[0mfit\u001b[0m\u001b[0;34m(\u001b[0m\u001b[0mX_train\u001b[0m\u001b[0;34m,\u001b[0m \u001b[0mY_train\u001b[0m\u001b[0;34m,\u001b[0m \u001b[0mX_test\u001b[0m\u001b[0;34m,\u001b[0m \u001b[0mY_test\u001b[0m\u001b[0;34m,\u001b[0m \u001b[0;36m50\u001b[0m\u001b[0;34m)\u001b[0m\u001b[0;34m\u001b[0m\u001b[0;34m\u001b[0m\u001b[0m\n\u001b[0m\u001b[1;32m      2\u001b[0m \u001b[0myh\u001b[0m \u001b[0;34m=\u001b[0m \u001b[0mmodel\u001b[0m\u001b[0;34m.\u001b[0m\u001b[0mpredict\u001b[0m\u001b[0;34m(\u001b[0m\u001b[0mX_test\u001b[0m\u001b[0;34m)\u001b[0m\u001b[0;34m\u001b[0m\u001b[0;34m\u001b[0m\u001b[0m\n\u001b[1;32m      3\u001b[0m \u001b[0macc\u001b[0m \u001b[0;34m=\u001b[0m \u001b[0mmodel\u001b[0m\u001b[0;34m.\u001b[0m\u001b[0mevaluate_acc\u001b[0m\u001b[0;34m(\u001b[0m\u001b[0mY_test\u001b[0m\u001b[0;34m,\u001b[0m \u001b[0myh\u001b[0m\u001b[0;34m)\u001b[0m\u001b[0;34m\u001b[0m\u001b[0;34m\u001b[0m\u001b[0m\n\u001b[1;32m      4\u001b[0m \u001b[0mprint\u001b[0m\u001b[0;34m(\u001b[0m\u001b[0myh\u001b[0m\u001b[0;34m)\u001b[0m\u001b[0;34m\u001b[0m\u001b[0;34m\u001b[0m\u001b[0m\n\u001b[1;32m      5\u001b[0m \u001b[0mprint\u001b[0m\u001b[0;34m(\u001b[0m\u001b[0macc\u001b[0m\u001b[0;34m)\u001b[0m\u001b[0;34m\u001b[0m\u001b[0;34m\u001b[0m\u001b[0m\n",
            "\u001b[0;32m<ipython-input-5-eb0a45e917ff>\u001b[0m in \u001b[0;36mfit\u001b[0;34m(self, X_train, Y_train, X_test, Y_test, epochs)\u001b[0m\n\u001b[1;32m    123\u001b[0m                 \u001b[0;31m# print(self.weights[0])\u001b[0m\u001b[0;34m\u001b[0m\u001b[0;34m\u001b[0m\u001b[0m\n\u001b[1;32m    124\u001b[0m \u001b[0;34m\u001b[0m\u001b[0m\n\u001b[0;32m--> 125\u001b[0;31m             \u001b[0mtrain_predict\u001b[0m \u001b[0;34m=\u001b[0m \u001b[0mself\u001b[0m\u001b[0;34m.\u001b[0m\u001b[0mpredict\u001b[0m\u001b[0;34m(\u001b[0m\u001b[0mX_train\u001b[0m\u001b[0;34m)\u001b[0m\u001b[0;34m\u001b[0m\u001b[0;34m\u001b[0m\u001b[0m\n\u001b[0m\u001b[1;32m    126\u001b[0m             \u001b[0mself\u001b[0m\u001b[0;34m.\u001b[0m\u001b[0mtrain_acc\u001b[0m\u001b[0;34m.\u001b[0m\u001b[0mappend\u001b[0m\u001b[0;34m(\u001b[0m\u001b[0mself\u001b[0m\u001b[0;34m.\u001b[0m\u001b[0mevaluate_acc\u001b[0m\u001b[0;34m(\u001b[0m\u001b[0mY_train\u001b[0m\u001b[0;34m,\u001b[0m \u001b[0mtrain_predict\u001b[0m\u001b[0;34m)\u001b[0m\u001b[0;34m)\u001b[0m\u001b[0;34m\u001b[0m\u001b[0;34m\u001b[0m\u001b[0m\n\u001b[1;32m    127\u001b[0m \u001b[0;34m\u001b[0m\u001b[0m\n",
            "\u001b[0;32m<ipython-input-5-eb0a45e917ff>\u001b[0m in \u001b[0;36mpredict\u001b[0;34m(self, X)\u001b[0m\n\u001b[1;32m    132\u001b[0m \u001b[0;34m\u001b[0m\u001b[0m\n\u001b[1;32m    133\u001b[0m     \u001b[0;32mdef\u001b[0m \u001b[0mpredict\u001b[0m\u001b[0;34m(\u001b[0m\u001b[0mself\u001b[0m\u001b[0;34m,\u001b[0m \u001b[0mX\u001b[0m\u001b[0;34m)\u001b[0m\u001b[0;34m:\u001b[0m\u001b[0;34m\u001b[0m\u001b[0;34m\u001b[0m\u001b[0m\n\u001b[0;32m--> 134\u001b[0;31m       \u001b[0mout\u001b[0m \u001b[0;34m=\u001b[0m \u001b[0mself\u001b[0m\u001b[0;34m.\u001b[0m\u001b[0m_forward_mode\u001b[0m\u001b[0;34m(\u001b[0m\u001b[0mX\u001b[0m\u001b[0;34m)\u001b[0m\u001b[0;34m\u001b[0m\u001b[0;34m\u001b[0m\u001b[0m\n\u001b[0m\u001b[1;32m    135\u001b[0m       \u001b[0;32mreturn\u001b[0m \u001b[0mself\u001b[0m\u001b[0;34m.\u001b[0m\u001b[0mto_categorical\u001b[0m\u001b[0;34m(\u001b[0m\u001b[0mout\u001b[0m\u001b[0;34m)\u001b[0m\u001b[0;34m\u001b[0m\u001b[0;34m\u001b[0m\u001b[0m\n\u001b[1;32m    136\u001b[0m \u001b[0;34m\u001b[0m\u001b[0m\n",
            "\u001b[0;32m<ipython-input-5-eb0a45e917ff>\u001b[0m in \u001b[0;36m_forward_mode\u001b[0;34m(self, X_batch)\u001b[0m\n\u001b[1;32m     69\u001b[0m         \u001b[0mself\u001b[0m\u001b[0;34m.\u001b[0m\u001b[0mlayer_values\u001b[0m\u001b[0;34m[\u001b[0m\u001b[0;36m0\u001b[0m\u001b[0;34m]\u001b[0m \u001b[0;34m=\u001b[0m \u001b[0mcur_out\u001b[0m\u001b[0;34m\u001b[0m\u001b[0;34m\u001b[0m\u001b[0m\n\u001b[1;32m     70\u001b[0m         \u001b[0;32mfor\u001b[0m \u001b[0mi\u001b[0m\u001b[0;34m,\u001b[0m \u001b[0mweight\u001b[0m \u001b[0;32min\u001b[0m \u001b[0menumerate\u001b[0m\u001b[0;34m(\u001b[0m\u001b[0mself\u001b[0m\u001b[0;34m.\u001b[0m\u001b[0mweights\u001b[0m\u001b[0;34m)\u001b[0m\u001b[0;34m:\u001b[0m\u001b[0;34m\u001b[0m\u001b[0;34m\u001b[0m\u001b[0m\n\u001b[0;32m---> 71\u001b[0;31m           \u001b[0mcur_out\u001b[0m \u001b[0;34m=\u001b[0m \u001b[0mself\u001b[0m\u001b[0;34m.\u001b[0m\u001b[0mactivation_function\u001b[0m\u001b[0;34m(\u001b[0m\u001b[0mcur_out\u001b[0m\u001b[0;34m.\u001b[0m\u001b[0mdot\u001b[0m\u001b[0;34m(\u001b[0m\u001b[0mweight\u001b[0m\u001b[0;34m)\u001b[0m\u001b[0;34m)\u001b[0m\u001b[0;34m/\u001b[0m\u001b[0mself\u001b[0m\u001b[0;34m.\u001b[0m\u001b[0mbatch_size\u001b[0m\u001b[0;34m\u001b[0m\u001b[0;34m\u001b[0m\u001b[0m\n\u001b[0m\u001b[1;32m     72\u001b[0m           \u001b[0mself\u001b[0m\u001b[0;34m.\u001b[0m\u001b[0mlayer_values\u001b[0m\u001b[0;34m[\u001b[0m\u001b[0mi\u001b[0m \u001b[0;34m+\u001b[0m \u001b[0;36m1\u001b[0m\u001b[0;34m]\u001b[0m \u001b[0;34m=\u001b[0m \u001b[0mcur_out\u001b[0m\u001b[0;34m\u001b[0m\u001b[0;34m\u001b[0m\u001b[0m\n\u001b[1;32m     73\u001b[0m \u001b[0;34m\u001b[0m\u001b[0m\n",
            "\u001b[0;31mKeyboardInterrupt\u001b[0m: "
          ]
        }
      ]
    },
    {
      "cell_type": "code",
      "source": [
        "yh = model.predict(X_train)\n",
        "acc = model.evaluate_acc(Y_train, yh)\n",
        "print(yh)\n",
        "print(acc)\n",
        "# out = model._forward_mode(X_test)\n",
        "# print(out)\n"
      ],
      "metadata": {
        "id": "7YCC3msDvwHg"
      },
      "execution_count": null,
      "outputs": []
    },
    {
      "cell_type": "markdown",
      "source": [
        "Experiment 1"
      ],
      "metadata": {
        "id": "JcfaOZYHQyNO"
      }
    },
    {
      "cell_type": "code",
      "source": [
        "modelNH = MLP(1000, 2, [], 0.001, activation_function= ReLU)\n",
        "model1H = MLP(1000, 3, [256], 0.001, activation_function= ReLU)\n",
        "model2H = MLP(1000, 4, [256, 256], 0.001, activation_function= ReLU)\n",
        "\n",
        "modelNH.fit(X_train, Y_train, X_test, Y_test, 50)\n",
        "model1H.fit(X_train, Y_train, X_test, Y_test, 50)\n",
        "model2H.fit(X_train, Y_train, X_test, Y_test, 50)\n",
        "\n",
        "test_accN = modelNH.get_test_acc()\n",
        "test_acc1 = model1H.get_test_acc()\n",
        "test_acc2 = model2H.get_test_acc()\n",
        "\n",
        "plt.plot(test_accN, label='0 hidden layers')\n",
        "plt.plot(test_acc2, label='1 hidden layers')\n",
        "plt.plot(test_acc1, label='2 hidden layer')\n",
        "plt.legend(loc='lower right')\n",
        "plt.xlabel('Epoch')\n",
        "plt.ylabel('Accuracy')\n",
        "plt.title('Training accuracy VS epochs')\n",
        "\n",
        "max_accN = max(test_accN)\n",
        "indexN = test_accN.index(max_accN)\n",
        "\n",
        "max_acc1 = max(test_acc1)\n",
        "indexN = test_acc1.index(max_acc1)\n",
        "\n",
        "max_acc2 = max(test_acc2)\n",
        "indexN = test_acc2.index(max_acc2)\n"
      ],
      "metadata": {
        "id": "OVSrc0WLQxvS",
        "colab": {
          "base_uri": "https://localhost:8080/",
          "height": 1000
        },
        "outputId": "277a1a41-7d4e-4ea2-82f0-625857cd07dd"
      },
      "execution_count": null,
      "outputs": [
        {
          "output_type": "stream",
          "name": "stdout",
          "text": [
            "0\n",
            "1\n",
            "2\n",
            "3\n",
            "4\n",
            "5\n",
            "6\n",
            "7\n",
            "8\n",
            "9\n",
            "10\n",
            "11\n",
            "12\n",
            "13\n",
            "14\n",
            "15\n",
            "16\n",
            "17\n",
            "18\n",
            "19\n",
            "20\n",
            "21\n",
            "22\n",
            "23\n",
            "24\n",
            "25\n",
            "26\n",
            "27\n",
            "28\n",
            "29\n",
            "30\n",
            "31\n",
            "32\n",
            "33\n",
            "34\n",
            "35\n",
            "36\n",
            "37\n",
            "38\n",
            "39\n",
            "40\n",
            "41\n",
            "42\n",
            "43\n",
            "44\n",
            "45\n",
            "46\n",
            "47\n",
            "48\n",
            "49\n"
          ]
        },
        {
          "output_type": "stream",
          "name": "stderr",
          "text": [
            "<ipython-input-5-eb0a45e917ff>:108: VisibleDeprecationWarning: Creating an ndarray from ragged nested sequences (which is a list-or-tuple of lists-or-tuples-or ndarrays with different lengths or shapes) is deprecated. If you meant to do this, you must specify 'dtype=object' when creating the ndarray.\n",
            "  self.weights = np.subtract(self.weights, new_weights)\n"
          ]
        },
        {
          "output_type": "stream",
          "name": "stdout",
          "text": [
            "0\n",
            "1\n",
            "2\n",
            "3\n",
            "4\n",
            "5\n",
            "6\n",
            "7\n",
            "8\n",
            "9\n",
            "10\n",
            "11\n",
            "12\n",
            "13\n",
            "14\n",
            "15\n",
            "16\n",
            "17\n",
            "18\n",
            "19\n",
            "20\n",
            "21\n",
            "22\n",
            "23\n",
            "24\n",
            "25\n",
            "26\n",
            "27\n",
            "28\n",
            "29\n",
            "30\n",
            "31\n",
            "32\n",
            "33\n",
            "34\n",
            "35\n",
            "36\n",
            "37\n",
            "38\n",
            "39\n",
            "40\n",
            "41\n",
            "42\n",
            "43\n",
            "44\n",
            "45\n",
            "46\n",
            "47\n",
            "48\n",
            "49\n",
            "0\n",
            "1\n",
            "2\n",
            "3\n",
            "4\n",
            "5\n",
            "6\n",
            "7\n",
            "8\n",
            "9\n",
            "10\n",
            "11\n",
            "12\n",
            "13\n",
            "14\n",
            "15\n",
            "16\n",
            "17\n",
            "18\n",
            "19\n",
            "20\n",
            "21\n",
            "22\n",
            "23\n",
            "24\n",
            "25\n",
            "26\n",
            "27\n",
            "28\n",
            "29\n",
            "30\n",
            "31\n",
            "32\n",
            "33\n",
            "34\n",
            "35\n",
            "36\n",
            "37\n",
            "38\n",
            "39\n",
            "40\n",
            "41\n",
            "42\n",
            "43\n",
            "44\n",
            "45\n",
            "46\n",
            "47\n",
            "48\n",
            "49\n"
          ]
        },
        {
          "output_type": "display_data",
          "data": {
            "text/plain": [
              "<Figure size 432x288 with 1 Axes>"
            ],
            "image/png": "[encoded data removed]"
          },
          "metadata": {
            "needs_background": "light"
          }
        }
      ]
    },
    {
      "cell_type": "markdown",
      "source": [
        "Experiment 2:"
      ],
      "metadata": {
        "id": "cnEkLUf4Zd5v"
      }
    },
    {
      "cell_type": "code",
      "source": [
        "modelLeaky = MLP(1000, 4, [256, 256], 0.001, activation_function= leaky_ReLU)\n",
        "modeltanh = MLP(1000, 4, [256, 256], 0.001, activation_function= tanh)\n",
        "\n",
        "modelLeaky.fit(X_train, Y_train, X_test, Y_test, 50)\n",
        "modeltanh.fit(X_train, Y_train, X_test, Y_test, 50)\n",
        "\n",
        "test_accL = modelLeaky.get_test_acc()\n",
        "test_accT = modeltanh.get_test_acc()\n",
        "test_accR = model2H.get_test_acc()\n",
        "\n",
        "plt.plot(test_accL, label='Leaky-ReLU')\n",
        "plt.plot(test_accT, label='tanh')\n",
        "plt.plot(test_accR, label='ReLU')\n",
        "plt.legend(loc='lower right')\n",
        "plt.xlabel('Epoch')\n",
        "plt.ylabel('Accuracy')\n",
        "plt.title('Training accuracy VS epochs')\n",
        "\n",
        "max_accL = max(test_accL)\n",
        "indexL = test_accL.index(max_accL)\n",
        "\n",
        "max_accT = max(test_accT)\n",
        "indexT = test_accT.index(max_accT)\n"
      ],
      "metadata": {
        "id": "XpADWZC9ZdQl"
      },
      "execution_count": null,
      "outputs": []
    },
    {
      "cell_type": "markdown",
      "source": [
        "Experiment 3"
      ],
      "metadata": {
        "id": "UfGfn_LVioI6"
      }
    },
    {
      "cell_type": "code",
      "source": [
        "#Uncomment L1\n",
        "modelL1 = MLP(1000, 4, [256, 256], 0.001, activation_function= ReLU)\n",
        "modelL1.fit(X_train, Y_train, X_test, Y_test, 50)\n",
        "\n",
        "test_accL1 = modelL1.get_test_acc()\n",
        "\n",
        "max_accL1 = max(test_accL1)\n",
        "indexL1 = test_accL1.index(max_accL1)"
      ],
      "metadata": {
        "id": "2Igx88IhiuGq",
        "colab": {
          "base_uri": "https://localhost:8080/"
        },
        "outputId": "d0bc52dc-b35c-4247-f2af-94ea32e774c9"
      },
      "execution_count": null,
      "outputs": [
        {
          "output_type": "stream",
          "name": "stderr",
          "text": [
            "<ipython-input-13-f0a3340d26ce>:108: VisibleDeprecationWarning: Creating an ndarray from ragged nested sequences (which is a list-or-tuple of lists-or-tuples-or ndarrays with different lengths or shapes) is deprecated. If you meant to do this, you must specify 'dtype=object' when creating the ndarray.\n",
            "  self.weights = np.subtract(self.weights, new_weights)\n"
          ]
        },
        {
          "output_type": "stream",
          "name": "stdout",
          "text": [
            "0\n",
            "1\n",
            "2\n",
            "3\n",
            "4\n",
            "5\n",
            "6\n",
            "7\n",
            "8\n",
            "9\n",
            "10\n",
            "11\n",
            "12\n",
            "13\n",
            "14\n",
            "15\n",
            "16\n",
            "17\n",
            "18\n",
            "19\n",
            "20\n",
            "21\n",
            "22\n",
            "23\n",
            "24\n",
            "25\n",
            "26\n",
            "27\n",
            "28\n",
            "29\n",
            "30\n",
            "31\n",
            "32\n",
            "33\n",
            "34\n",
            "35\n",
            "36\n",
            "37\n",
            "38\n",
            "39\n",
            "40\n",
            "41\n",
            "42\n",
            "43\n",
            "44\n",
            "45\n",
            "46\n",
            "47\n",
            "48\n",
            "49\n"
          ]
        }
      ]
    },
    {
      "cell_type": "code",
      "source": [
        "#Uncomment L2\n",
        "modelL2 = MLP(512, 4, [256, 256], 0.001, activation_function= ReLU)\n",
        "modelL2.fit(X_train, Y_train, X_test, Y_test, 50)\n",
        "\n",
        "\n",
        "test_accL2 = modelL2.get_test_acc()\n",
        "\n",
        "plt.plot(test_accR, label='None')\n",
        "plt.plot(test_accL1, label='L1')\n",
        "plt.plot(test_accL2, label='L2')\n",
        "plt.legend(loc='lower right')\n",
        "\n",
        "plt.xlabel('Epoch')\n",
        "plt.ylabel('Accuracy')\n",
        "plt.title('Training accuracy VS epochs')\n",
        "\n",
        "max_accL2 = max(test_accL2)\n",
        "indexL2 = test_accL2.index(max_accL2)"
      ],
      "metadata": {
        "id": "P4PHbYrpycIv",
        "colab": {
          "base_uri": "https://localhost:8080/",
          "height": 295
        },
        "outputId": "260d98ce-2c48-46b3-b2a6-7810afd85ce4"
      },
      "execution_count": null,
      "outputs": [
        {
          "output_type": "display_data",
          "data": {
            "text/plain": [
              "<Figure size 432x288 with 1 Axes>"
            ],
            "image/png": "[encoded data removed]"
          },
          "metadata": {
            "needs_background": "light"
          }
        }
      ]
    },
    {
      "cell_type": "markdown",
      "source": [
        "Experiment 4:"
      ],
      "metadata": {
        "id": "lRBGaFFOj95O"
      }
    },
    {
      "cell_type": "code",
      "source": [
        "X_train, y_train, X_test, y_test = load_dataset(CIFAR_10_dir)\n",
        "X_train = X_train.astype('float64')\n",
        "X_test = X_test.astype('float64')\n",
        "\n",
        "\n",
        "X_train_RGB = X_train.reshape(50000, 3, 32, 32).transpose(0, 2, 3, 1)\n",
        "X_test_RGB = X_test.reshape(10000, 3, 32, 32).transpose(0, 2, 3, 1)\n",
        "\n",
        "\n",
        "# modelUN = MLP(1000, 4, [256, 256], 0.001, activation_function= ReLU)\n",
        "# modelUN.fit(X_train, Y_train, X_test, Y_test, 50)\n",
        "\n",
        "\n",
        "test_accUN = modelUN.get_test_acc()\n",
        "\n",
        "plt.plot(test_accR, label='normalized')\n",
        "plt.plot(test_accUN, label='unnormalized')\n",
        "plt.xlabel('Epoch')\n",
        "plt.ylabel('Accuracy')\n",
        "plt.title('Training accuracy VS epochs')\n",
        "plt.legend(loc='lower right')\n",
        "\n",
        "max_accUN = max(test_accUN)\n",
        "indexUN = test_accUN.index(max_accUN)\n"
      ],
      "metadata": {
        "id": "2Dxq7Msqj9Xa",
        "colab": {
          "base_uri": "https://localhost:8080/",
          "height": 295
        },
        "outputId": "7828d55f-ca13-45de-9f3b-f8f238175a62"
      },
      "execution_count": null,
      "outputs": [
        {
          "output_type": "display_data",
          "data": {
            "text/plain": [
              "<Figure size 432x288 with 1 Axes>"
            ],
            "image/png": "[encoded data removed]"
          },
          "metadata": {
            "needs_background": "light"
          }
        }
      ]
    },
    {
      "cell_type": "code",
      "execution_count": null,
      "metadata": {
        "id": "_8C1T7GIfZoN"
      },
      "outputs": [],
      "source": [
        "import tensorflow as tf\n",
        "from tensorflow import keras\n",
        "from tensorflow.keras import datasets, layers, models, optimizers\n",
        "from tensorflow.keras.optimizers import SGD, RMSprop\n",
        "from tensorflow.keras.models import Sequential\n",
        "from keras.layers import Dense, Activation, Flatten, BatchNormalization\n",
        "import matplotlib.pyplot as plt\n",
        "from tensorflow.keras.applications import resnet50"
      ]
    },
    {
      "cell_type": "code",
      "execution_count": null,
      "metadata": {
        "colab": {
          "base_uri": "https://localhost:8080/",
          "height": 1000
        },
        "outputId": "5369c617-7126-47e6-a6d1-21c44c857d3e",
        "id": "a_EXSlVBSJRJ"
      },
      "outputs": [
        {
          "output_type": "stream",
          "name": "stdout",
          "text": [
            "Model: \"sequential_1\"\n",
            "_________________________________________________________________\n",
            " Layer (type)                Output Shape              Param #   \n",
            "=================================================================\n",
            " conv2d_2 (Conv2D)           (None, 30, 30, 32)        896       \n",
            "                                                                 \n",
            " max_pooling2d_2 (MaxPooling  (None, 15, 15, 32)       0         \n",
            " 2D)                                                             \n",
            "                                                                 \n",
            " conv2d_3 (Conv2D)           (None, 13, 13, 64)        18496     \n",
            "                                                                 \n",
            " max_pooling2d_3 (MaxPooling  (None, 6, 6, 64)         0         \n",
            " 2D)                                                             \n",
            "                                                                 \n",
            " flatten_1 (Flatten)         (None, 2304)              0         \n",
            "                                                                 \n",
            " dense_2 (Dense)             (None, 256)               590080    \n",
            "                                                                 \n",
            " dense_3 (Dense)             (None, 256)               65792     \n",
            "                                                                 \n",
            "=================================================================\n",
            "Total params: 675,264\n",
            "Trainable params: 675,264\n",
            "Non-trainable params: 0\n",
            "_________________________________________________________________\n",
            "Epoch 1/45\n",
            "1563/1563 [==============================] - 75s 47ms/step - loss: 2.3823 - accuracy: 0.3291 - val_loss: 1.9656 - val_accuracy: 0.4694\n",
            "Epoch 2/45\n",
            "1563/1563 [==============================] - 73s 47ms/step - loss: 1.6103 - accuracy: 0.5212 - val_loss: 1.1875 - val_accuracy: 0.5786\n",
            "Epoch 3/45\n",
            "1563/1563 [==============================] - 73s 46ms/step - loss: 1.0632 - accuracy: 0.6287 - val_loss: 1.1842 - val_accuracy: 0.5928\n",
            "Epoch 4/45\n",
            "1563/1563 [==============================] - 73s 46ms/step - loss: 0.9077 - accuracy: 0.6838 - val_loss: 0.9954 - val_accuracy: 0.6560\n",
            "Epoch 5/45\n",
            "1563/1563 [==============================] - 73s 47ms/step - loss: 0.7763 - accuracy: 0.7302 - val_loss: 1.0170 - val_accuracy: 0.6597\n",
            "Epoch 6/45\n",
            "1563/1563 [==============================] - 75s 48ms/step - loss: 0.6588 - accuracy: 0.7705 - val_loss: 0.9530 - val_accuracy: 0.6825\n",
            "Epoch 7/45\n",
            "1563/1563 [==============================] - 72s 46ms/step - loss: 0.5447 - accuracy: 0.8120 - val_loss: 1.0158 - val_accuracy: 0.6765\n",
            "Epoch 8/45\n",
            "1563/1563 [==============================] - 75s 48ms/step - loss: 0.4358 - accuracy: 0.8469 - val_loss: 1.0469 - val_accuracy: 0.6894\n",
            "Epoch 9/45\n",
            "1563/1563 [==============================] - 75s 48ms/step - loss: 0.3375 - accuracy: 0.8832 - val_loss: 1.2324 - val_accuracy: 0.6739\n",
            "Epoch 10/45\n",
            "1563/1563 [==============================] - 72s 46ms/step - loss: 0.2562 - accuracy: 0.9107 - val_loss: 1.4151 - val_accuracy: 0.6486\n",
            "Epoch 11/45\n",
            "1563/1563 [==============================] - 73s 47ms/step - loss: 0.1923 - accuracy: 0.9337 - val_loss: 1.4060 - val_accuracy: 0.6943\n",
            "Epoch 12/45\n",
            "1563/1563 [==============================] - 74s 47ms/step - loss: 0.1465 - accuracy: 0.9496 - val_loss: 1.5694 - val_accuracy: 0.6815\n",
            "Epoch 13/45\n",
            "1563/1563 [==============================] - 72s 46ms/step - loss: 0.1169 - accuracy: 0.9602 - val_loss: 1.9597 - val_accuracy: 0.6515\n",
            "Epoch 14/45\n",
            "1563/1563 [==============================] - 73s 47ms/step - loss: 0.0962 - accuracy: 0.9686 - val_loss: 1.7616 - val_accuracy: 0.6779\n",
            "Epoch 15/45\n",
            "1563/1563 [==============================] - 73s 47ms/step - loss: 0.0804 - accuracy: 0.9722 - val_loss: 1.9441 - val_accuracy: 0.6677\n",
            "Epoch 16/45\n",
            "1563/1563 [==============================] - 73s 47ms/step - loss: 0.0793 - accuracy: 0.9739 - val_loss: 1.8995 - val_accuracy: 0.6891\n",
            "Epoch 17/45\n",
            "1563/1563 [==============================] - 73s 47ms/step - loss: 0.0521 - accuracy: 0.9833 - val_loss: 2.0087 - val_accuracy: 0.6863\n",
            "Epoch 18/45\n",
            "1563/1563 [==============================] - 75s 48ms/step - loss: 0.0615 - accuracy: 0.9792 - val_loss: 2.1213 - val_accuracy: 0.6822\n",
            "Epoch 19/45\n",
            "1563/1563 [==============================] - 72s 46ms/step - loss: 0.0715 - accuracy: 0.9756 - val_loss: 2.1803 - val_accuracy: 0.6676\n",
            "Epoch 20/45\n",
            "1563/1563 [==============================] - 73s 47ms/step - loss: 0.0804 - accuracy: 0.9725 - val_loss: 2.3030 - val_accuracy: 0.6761\n",
            "Epoch 21/45\n",
            "1563/1563 [==============================] - 74s 48ms/step - loss: 0.0710 - accuracy: 0.9768 - val_loss: 2.2869 - val_accuracy: 0.6789\n",
            "Epoch 22/45\n",
            "1563/1563 [==============================] - 72s 46ms/step - loss: 0.0477 - accuracy: 0.9841 - val_loss: 2.3266 - val_accuracy: 0.6761\n",
            "Epoch 23/45\n",
            "1563/1563 [==============================] - 74s 48ms/step - loss: 0.0459 - accuracy: 0.9839 - val_loss: 2.4428 - val_accuracy: 0.6827\n",
            "Epoch 24/45\n",
            "1563/1563 [==============================] - 73s 47ms/step - loss: 0.0301 - accuracy: 0.9897 - val_loss: 2.5081 - val_accuracy: 0.6843\n",
            "Epoch 25/45\n",
            "1563/1563 [==============================] - 73s 46ms/step - loss: 0.0217 - accuracy: 0.9928 - val_loss: 2.4366 - val_accuracy: 0.6940\n",
            "Epoch 26/45\n",
            "1563/1563 [==============================] - 75s 48ms/step - loss: 0.0105 - accuracy: 0.9970 - val_loss: 2.5941 - val_accuracy: 0.6939\n",
            "Epoch 27/45\n",
            "1563/1563 [==============================] - 74s 47ms/step - loss: 0.0120 - accuracy: 0.9964 - val_loss: 2.7490 - val_accuracy: 0.6959\n",
            "Epoch 28/45\n",
            "1563/1563 [==============================] - 72s 46ms/step - loss: 0.0134 - accuracy: 0.9956 - val_loss: 2.6758 - val_accuracy: 0.6960\n",
            "Epoch 29/45\n",
            "1563/1563 [==============================] - 75s 48ms/step - loss: 0.0099 - accuracy: 0.9972 - val_loss: 2.6607 - val_accuracy: 0.7017\n",
            "Epoch 30/45\n",
            "1563/1563 [==============================] - 73s 47ms/step - loss: 0.0055 - accuracy: 0.9985 - val_loss: 2.6792 - val_accuracy: 0.7086\n",
            "Epoch 31/45\n",
            "1563/1563 [==============================] - 72s 46ms/step - loss: 9.4464e-04 - accuracy: 0.9999 - val_loss: 2.6625 - val_accuracy: 0.7090\n",
            "Epoch 32/45\n",
            "1563/1563 [==============================] - 75s 48ms/step - loss: 2.2837e-04 - accuracy: 1.0000 - val_loss: 2.6931 - val_accuracy: 0.7092\n",
            "Epoch 33/45\n",
            "1563/1563 [==============================] - 73s 47ms/step - loss: 1.7076e-04 - accuracy: 1.0000 - val_loss: 2.7161 - val_accuracy: 0.7092\n",
            "Epoch 34/45\n",
            "1563/1563 [==============================] - 74s 48ms/step - loss: 1.4502e-04 - accuracy: 1.0000 - val_loss: 2.7353 - val_accuracy: 0.7102\n",
            "Epoch 35/45\n",
            "1563/1563 [==============================] - 74s 47ms/step - loss: 1.2810e-04 - accuracy: 1.0000 - val_loss: 2.7528 - val_accuracy: 0.7104\n",
            "Epoch 36/45\n",
            "1563/1563 [==============================] - 74s 47ms/step - loss: 1.1550e-04 - accuracy: 1.0000 - val_loss: 2.7690 - val_accuracy: 0.7109\n",
            "Epoch 37/45\n",
            "1563/1563 [==============================] - 74s 47ms/step - loss: 1.0561e-04 - accuracy: 1.0000 - val_loss: 2.7823 - val_accuracy: 0.7105\n",
            "Epoch 38/45\n",
            "1563/1563 [==============================] - 76s 49ms/step - loss: 9.7503e-05 - accuracy: 1.0000 - val_loss: 2.7951 - val_accuracy: 0.7112\n",
            "Epoch 39/45\n",
            "1563/1563 [==============================] - 73s 47ms/step - loss: 9.0857e-05 - accuracy: 1.0000 - val_loss: 2.8069 - val_accuracy: 0.7109\n",
            "Epoch 40/45\n",
            "1563/1563 [==============================] - 76s 48ms/step - loss: 8.5049e-05 - accuracy: 1.0000 - val_loss: 2.8181 - val_accuracy: 0.7105\n",
            "Epoch 41/45\n",
            "1563/1563 [==============================] - 74s 47ms/step - loss: 8.0090e-05 - accuracy: 1.0000 - val_loss: 2.8288 - val_accuracy: 0.7106\n",
            "Epoch 42/45\n",
            "1563/1563 [==============================] - 74s 47ms/step - loss: 7.5835e-05 - accuracy: 1.0000 - val_loss: 2.8382 - val_accuracy: 0.7108\n",
            "Epoch 43/45\n",
            "1563/1563 [==============================] - 74s 47ms/step - loss: 7.1971e-05 - accuracy: 1.0000 - val_loss: 2.8473 - val_accuracy: 0.7107\n",
            "Epoch 44/45\n",
            "1563/1563 [==============================] - 74s 47ms/step - loss: 6.8563e-05 - accuracy: 1.0000 - val_loss: 2.8560 - val_accuracy: 0.7112\n",
            "Epoch 45/45\n",
            "1563/1563 [==============================] - 74s 47ms/step - loss: 6.5514e-05 - accuracy: 1.0000 - val_loss: 2.8646 - val_accuracy: 0.7114\n",
            "313/313 - 4s - loss: 2.8646 - accuracy: 0.7114 - 4s/epoch - 13ms/step\n"
          ]
        },
        {
          "output_type": "display_data",
          "data": {
            "text/plain": [
              "<Figure size 432x288 with 1 Axes>"
            ],
            "image/png": "[encoded data removed]"
          },
          "metadata": {
            "needs_background": "light"
          }
        },
        {
          "output_type": "stream",
          "name": "stdout",
          "text": [
            "0.7113999724388123\n"
          ]
        }
      ],
      "source": [
        "#TODO create a convolutional neural network (CNN) with 2 convolutional and 2 fully connected layers\n",
        "\n",
        "(train_images, train_labels), (test_images, test_labels) = datasets.cifar10.load_data()\n",
        "#normalize pixel values to be between 0 and 1\n",
        "train_images, test_images = train_images / 255.0, test_images / 255.0\n",
        "\n",
        "model = models.Sequential()\n",
        "model.add(layers.Conv2D(32, (3, 3), activation='relu', input_shape=(32, 32, 3))) #32\n",
        "model.add(layers.MaxPooling2D((2, 2)))\n",
        "model.add(layers.Conv2D(64, (3, 3), activation='relu')) #64\n",
        "model.add(layers.MaxPooling2D((2, 2)))\n",
        "\n",
        "model.add(layers.Flatten())\n",
        "model.add(layers.Dense(256, activation='relu'))\n",
        "model.add(layers.Dense(256, activation='relu'))\n",
        "\n",
        "model.summary()\n",
        "\n",
        "sgd = SGD(learning_rate=0.06)\n",
        "model.compile(optimizer=sgd,\n",
        "              loss=tf.keras.losses.SparseCategoricalCrossentropy(from_logits=True),\n",
        "              metrics=['accuracy'])\n",
        "\n",
        "graph = model.fit(train_images, train_labels, batch_size=32, epochs=45,\n",
        "                    validation_data=(test_images, test_labels))\n",
        "\n",
        "plt.plot(graph.history['accuracy'], label='train_accuracy')\n",
        "#plt.plot(history.history['val_accuracy'], label = 'test_accuracy')\n",
        "plt.xlabel('Epoch')\n",
        "plt.ylabel('Accuracy')\n",
        "plt.ylim([0, 1])\n",
        "plt.legend(loc='lower right')\n",
        "\n",
        "test_loss, test_acc = model.evaluate(test_images,  test_labels, verbose=2)\n",
        "\n",
        "plt.show()\n",
        "print(test_acc)"
      ]
    },
    {
      "cell_type": "code",
      "execution_count": null,
      "metadata": {
        "colab": {
          "base_uri": "https://localhost:8080/",
          "height": 301
        },
        "id": "L921_odSIMkG",
        "outputId": "9f2c983e-311e-453b-c7b5-e08344a0f71b"
      },
      "outputs": [
        {
          "output_type": "display_data",
          "data": {
            "text/plain": [
              "<Figure size 432x288 with 1 Axes>"
            ],
            "image/png": "[encoded data removed]"
          },
          "metadata": {
            "needs_background": "light"
          }
        },
        {
          "output_type": "stream",
          "name": "stdout",
          "text": [
            "test_accuracy: 0.7113999724388123\n"
          ]
        }
      ],
      "source": [
        "plt.plot(history.history['val_accuracy'], label = 'test_accuracy')\n",
        "plt.xlabel('Epoch')\n",
        "plt.ylabel('Accuracy')\n",
        "plt.ylim([0, 1])\n",
        "plt.legend(loc='lower right')\n",
        "plt.show()\n",
        "\n",
        "print(\"test_accuracy: \" + str(test_acc))"
      ]
    },
    {
      "cell_type": "code",
      "execution_count": null,
      "metadata": {
        "colab": {
          "base_uri": "https://localhost:8080/",
          "height": 1000
        },
        "id": "_8y88iomfk2C",
        "outputId": "125461e4-0e5d-48f2-ec1b-6cb56700ceed"
      },
      "outputs": [
        {
          "output_type": "stream",
          "name": "stdout",
          "text": [
            "Model: \"sequential_13\"\n",
            "_________________________________________________________________\n",
            " Layer (type)                Output Shape              Param #   \n",
            "=================================================================\n",
            " resnet50 (Functional)       (None, 1, 1, 2048)        23587712  \n",
            "                                                                 \n",
            " flatten_13 (Flatten)        (None, 2048)              0         \n",
            "                                                                 \n",
            " dense_48 (Dense)            (None, 1024)              2098176   \n",
            "                                                                 \n",
            " dense_49 (Dense)            (None, 512)               524800    \n",
            "                                                                 \n",
            " dense_50 (Dense)            (None, 10)                5130      \n",
            "                                                                 \n",
            "=================================================================\n",
            "Total params: 26,215,818\n",
            "Trainable params: 2,628,106\n",
            "Non-trainable params: 23,587,712\n",
            "_________________________________________________________________\n",
            "Epoch 1/10\n",
            "782/782 [==============================] - 246s 310ms/step - loss: 1.2764 - accuracy: 0.5885 - val_loss: 1.0527 - val_accuracy: 0.6341\n",
            "Epoch 2/10\n",
            "782/782 [==============================] - 240s 307ms/step - loss: 0.9175 - accuracy: 0.6761 - val_loss: 1.1470 - val_accuracy: 0.6097\n",
            "Epoch 3/10\n",
            "782/782 [==============================] - 239s 306ms/step - loss: 0.7984 - accuracy: 0.7159 - val_loss: 1.0549 - val_accuracy: 0.6294\n",
            "Epoch 4/10\n",
            "782/782 [==============================] - 231s 295ms/step - loss: 0.6893 - accuracy: 0.7532 - val_loss: 1.0526 - val_accuracy: 0.6511\n",
            "Epoch 5/10\n",
            "782/782 [==============================] - 226s 288ms/step - loss: 0.5879 - accuracy: 0.7867 - val_loss: 1.1731 - val_accuracy: 0.6387\n",
            "Epoch 6/10\n",
            "782/782 [==============================] - 215s 276ms/step - loss: 0.4950 - accuracy: 0.8216 - val_loss: 1.1522 - val_accuracy: 0.6511\n",
            "Epoch 7/10\n",
            "782/782 [==============================] - 230s 294ms/step - loss: 0.4076 - accuracy: 0.8531 - val_loss: 1.4817 - val_accuracy: 0.6215\n",
            "Epoch 8/10\n",
            "782/782 [==============================] - 226s 290ms/step - loss: 0.3379 - accuracy: 0.8787 - val_loss: 1.4317 - val_accuracy: 0.6376\n",
            "Epoch 9/10\n",
            "782/782 [==============================] - 229s 293ms/step - loss: 0.2746 - accuracy: 0.9014 - val_loss: 1.5156 - val_accuracy: 0.6345\n",
            "Epoch 10/10\n",
            "782/782 [==============================] - 228s 292ms/step - loss: 0.2279 - accuracy: 0.9174 - val_loss: 1.7985 - val_accuracy: 0.6229\n",
            "313/313 - 38s - loss: 1.7985 - accuracy: 0.6229 - 38s/epoch - 122ms/step\n"
          ]
        },
        {
          "output_type": "display_data",
          "data": {
            "text/plain": [
              "<Figure size 432x288 with 1 Axes>"
            ],
            "image/png": "[encoded data removed]"
          },
          "metadata": {
            "needs_background": "light"
          }
        },
        {
          "output_type": "stream",
          "name": "stdout",
          "text": [
            "0.6229000091552734\n"
          ]
        }
      ],
      "source": [
        "def preprocess_data(data, label):\n",
        "  data_proc = resnet50.preprocess_input(data)\n",
        "  label_proc = keras.utils.to_categorical(label, 10)\n",
        "  return data_proc, label_proc\n",
        "\n",
        "#TODO load a pre-trained model that you see fit (e.g., a ResNet) using existing libraries such as TensorFlow or PyTorch,\n",
        "# and then freeze all the convolutional layers and remove all the fully connected ones.\n",
        "\n",
        "pre_trained_model = resnet50.ResNet50(include_top=False, weights = 'imagenet', input_shape=(32, 32, 3))\n",
        "\n",
        "for layer in pre_trained_model.layers: #freeze layers\n",
        "    layer.trainable = False\n",
        "\n",
        "model = Sequential()\n",
        "model.add(pre_trained_model)\n",
        "model.add(Flatten())\n",
        "model.add(Dense(1024, activation='relu'))\n",
        "model.add(Dense(512, activation='relu'))\n",
        "model.add(Dense(10, activation=\"softmax\"))\n",
        "\n",
        "model.summary()\n",
        "\n",
        "\n",
        "(train_images, train_labels), (test_images, test_labels) = datasets.cifar10.load_data()\n",
        "\n",
        "train_images, train_labels = preprocess_data(train_images, train_labels)\n",
        "test_images, test_labels = preprocess_data(test_images, test_labels)\n",
        "\n",
        "sgd = SGD(learning_rate=0.07)\n",
        "model.compile(optimizer=sgd,\n",
        "              loss='categorical_crossentropy',\n",
        "              metrics=['accuracy'])\n",
        "\n",
        "graph = model.fit(train_images, train_labels, batch_size=64, epochs=10,\n",
        "                    validation_data=(test_images, test_labels))\n",
        "\n",
        "plt.plot(graph.history['accuracy'], label='train_accuracy')\n",
        "plt.xlabel('Epoch')\n",
        "plt.ylabel('Accuracy')\n",
        "plt.ylim([0, 1])\n",
        "plt.legend(loc='lower right')\n",
        "\n",
        "test_loss, test_acc = model.evaluate(test_images,  test_labels, verbose=2)\n",
        "\n",
        "plt.show()\n",
        "print(test_acc)"
      ]
    },
    {
      "cell_type": "code",
      "execution_count": null,
      "metadata": {
        "colab": {
          "base_uri": "https://localhost:8080/",
          "height": 283
        },
        "id": "9JlVDcPaIt-U",
        "outputId": "d1e0e77f-a31a-4a92-d738-72c82642e4eb"
      },
      "outputs": [
        {
          "output_type": "display_data",
          "data": {
            "text/plain": [
              "<Figure size 432x288 with 1 Axes>"
            ],
            "image/png": "[encoded data removed]"
          },
          "metadata": {
            "needs_background": "light"
          }
        }
      ],
      "source": [
        "plt.plot(history.history['val_accuracy'], label = 'test_accuracy')\n",
        "plt.xlabel('Epoch')\n",
        "plt.ylabel('Accuracy')\n",
        "plt.ylim([0.5, 1])\n",
        "plt.legend(loc='lower right')\n",
        "plt.show()"
      ]
    }
  ]
}